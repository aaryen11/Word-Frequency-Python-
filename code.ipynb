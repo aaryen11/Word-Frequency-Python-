{
 "metadata": {
  "language_info": {
   "codemirror_mode": {
    "name": "ipython",
    "version": 3
   },
   "file_extension": ".py",
   "mimetype": "text/x-python",
   "name": "python",
   "nbconvert_exporter": "python",
   "pygments_lexer": "ipython3",
   "version": 3
  },
  "orig_nbformat": 2,
  "kernelspec": {
   "name": "python_defaultSpec_1595739018269",
   "display_name": "Python 3.7.3 64-bit ('base': conda)"
  }
 },
 "nbformat": 4,
 "nbformat_minor": 2,
 "cells": [
  {
   "cell_type": "code",
   "execution_count": null,
   "metadata": {},
   "outputs": [],
   "source": [
    "import sys\n",
    "!{sys.executable} -m pip install beautifultable"
   ]
  },
  {
   "cell_type": "code",
   "execution_count": 153,
   "metadata": {
    "tags": []
   },
   "outputs": [],
   "source": [
    "import re\n",
    "import string \n",
    "from beautifultable import BeautifulTable"
   ]
  },
  {
   "cell_type": "code",
   "execution_count": 154,
   "metadata": {
    "tags": []
   },
   "outputs": [],
   "source": [
    "file = open('test.txt', 'r')\n",
    "lines = file.read().lower()\n",
    "pattern = re.findall(r'[a-z0-9]+', lines)"
   ]
  },
  {
   "cell_type": "code",
   "execution_count": 155,
   "metadata": {},
   "outputs": [],
   "source": [
    "frequency = dict()\n",
    "for word in pattern:\n",
    "    count = frequency.get(word,0)\n",
    "    frequency[word] = count + 1\n",
    "     \n",
    "counts = frequency.keys()"
   ]
  },
  {
   "cell_type": "code",
   "execution_count": 156,
   "metadata": {},
   "outputs": [],
   "source": [
    "table = BeautifulTable()\n",
    "table.rows.append([\"Word\", \"Count\"])\n",
    "for words in counts:\n",
    "    table.rows.append([words, frequency[words]])"
   ]
  },
  {
   "cell_type": "code",
   "execution_count": 157,
   "metadata": {
    "tags": []
   },
   "outputs": [
    {
     "output_type": "stream",
     "name": "stdout",
     "text": "+---------------+-------+\n|     Word      | Count |\n+---------------+-------+\n|    apache     |   2   |\n+---------------+-------+\n|    hadoop     |   5   |\n+---------------+-------+\n|      is       |   2   |\n+---------------+-------+\n|       a       |  10   |\n+---------------+-------+\n|  collection   |   1   |\n+---------------+-------+\n|      of       |   8   |\n+---------------+-------+\n|     open      |   1   |\n+---------------+-------+\n|    source     |   1   |\n+---------------+-------+\n|   software    |   2   |\n+---------------+-------+\n|   utilities   |   1   |\n+---------------+-------+\n|     that      |   3   |\n+---------------+-------+\n|  facilitate   |   1   |\n+---------------+-------+\n|     using     |   2   |\n+---------------+-------+\n|    network    |   1   |\n+---------------+-------+\n|     many      |   1   |\n+---------------+-------+\n|   computers   |   1   |\n+---------------+-------+\n|      to       |   4   |\n+---------------+-------+\n|     solve     |   1   |\n+---------------+-------+\n|   problems    |   1   |\n+---------------+-------+\n|   involving   |   1   |\n+---------------+-------+\n|    massive    |   1   |\n+---------------+-------+\n|    amounts    |   1   |\n+---------------+-------+\n|     data      |   6   |\n+---------------+-------+\n|      and      |   7   |\n+---------------+-------+\n|  computation  |   2   |\n+---------------+-------+\n|      it       |   4   |\n+---------------+-------+\n|   provides    |   1   |\n+---------------+-------+\n|   framework   |   2   |\n+---------------+-------+\n|      for      |   2   |\n+---------------+-------+\n|  distributed  |   3   |\n+---------------+-------+\n|    storage    |   2   |\n+---------------+-------+\n|  processing   |   2   |\n+---------------+-------+\n|      big      |   1   |\n+---------------+-------+\n|      the      |   8   |\n+---------------+-------+\n|   mapreduce   |   2   |\n+---------------+-------+\n|  programming  |   2   |\n+---------------+-------+\n|     model     |   2   |\n+---------------+-------+\n|  originally   |   1   |\n+---------------+-------+\n|   designed    |   2   |\n+---------------+-------+\n|   computer    |   1   |\n+---------------+-------+\n|   clusters    |   2   |\n+---------------+-------+\n|     built     |   1   |\n+---------------+-------+\n|     from      |   1   |\n+---------------+-------+\n|   commodity   |   1   |\n+---------------+-------+\n|   hardware    |   3   |\n+---------------+-------+\n|     still     |   1   |\n+---------------+-------+\n|    common     |   2   |\n+---------------+-------+\n|      use      |   2   |\n+---------------+-------+\n|      has      |   1   |\n+---------------+-------+\n|     also      |   1   |\n+---------------+-------+\n|     found     |   1   |\n+---------------+-------+\n|      on       |   2   |\n+---------------+-------+\n|    higher     |   1   |\n+---------------+-------+\n|      end      |   1   |\n+---------------+-------+\n|      all      |   1   |\n+---------------+-------+\n|    modules    |   1   |\n+---------------+-------+\n|      in       |   4   |\n+---------------+-------+\n|      are      |   3   |\n+---------------+-------+\n|     with      |   1   |\n+---------------+-------+\n|  fundamental  |   1   |\n+---------------+-------+\n|  assumption   |   1   |\n+---------------+-------+\n|   failures    |   1   |\n+---------------+-------+\n|  occurrences  |   1   |\n+---------------+-------+\n|    should     |   1   |\n+---------------+-------+\n|      be       |   3   |\n+---------------+-------+\n| automatically |   1   |\n+---------------+-------+\n|    handled    |   1   |\n+---------------+-------+\n|      by       |   1   |\n+---------------+-------+\n|     core      |   1   |\n+---------------+-------+\n|   consists    |   1   |\n+---------------+-------+\n|     part      |   2   |\n+---------------+-------+\n|     known     |   1   |\n+---------------+-------+\n|      as       |   1   |\n+---------------+-------+\n|     file      |   2   |\n+---------------+-------+\n|    system     |   2   |\n+---------------+-------+\n|     hdfs      |   1   |\n+---------------+-------+\n|     which     |   1   |\n+---------------+-------+\n|    splits     |   1   |\n+---------------+-------+\n|     files     |   1   |\n+---------------+-------+\n|     into      |   2   |\n+---------------+-------+\n|     large     |   1   |\n+---------------+-------+\n|    blocks     |   1   |\n+---------------+-------+\n|  distributes  |   1   |\n+---------------+-------+\n|     them      |   1   |\n+---------------+-------+\n|    across     |   1   |\n+---------------+-------+\n|     nodes     |   3   |\n+---------------+-------+\n|    cluster    |   1   |\n+---------------+-------+\n|     then      |   1   |\n+---------------+-------+\n|   transfers   |   1   |\n+---------------+-------+\n|   packaged    |   1   |\n+---------------+-------+\n|     code      |   1   |\n+---------------+-------+\n|    process    |   1   |\n+---------------+-------+\n|   parallel    |   2   |\n+---------------+-------+\n|     this      |   2   |\n+---------------+-------+\n|   approach    |   1   |\n+---------------+-------+\n|     takes     |   1   |\n+---------------+-------+\n|   advantage   |   1   |\n+---------------+-------+\n|   locality    |   1   |\n+---------------+-------+\n|     where     |   2   |\n+---------------+-------+\n|  manipulate   |   1   |\n+---------------+-------+\n|     they      |   1   |\n+---------------+-------+\n|     have      |   1   |\n+---------------+-------+\n|    access     |   1   |\n+---------------+-------+\n|    allows     |   1   |\n+---------------+-------+\n|    dataset    |   1   |\n+---------------+-------+\n|   processed   |   1   |\n+---------------+-------+\n|    faster     |   1   |\n+---------------+-------+\n|     more      |   2   |\n+---------------+-------+\n|  efficiently  |   1   |\n+---------------+-------+\n|     than      |   1   |\n+---------------+-------+\n|     would     |   1   |\n+---------------+-------+\n| conventional  |   1   |\n+---------------+-------+\n| supercomputer |   1   |\n+---------------+-------+\n| architecture  |   1   |\n+---------------+-------+\n|    relies     |   1   |\n+---------------+-------+\n|      via      |   1   |\n+---------------+-------+\n|     high      |   1   |\n+---------------+-------+\n|     speed     |   1   |\n+---------------+-------+\n|  networking   |   1   |\n+---------------+-------+\n"
    }
   ],
   "source": [
    "print(table)"
   ]
  },
  {
   "cell_type": "code",
   "execution_count": null,
   "metadata": {},
   "outputs": [],
   "source": []
  },
  {
   "cell_type": "code",
   "execution_count": null,
   "metadata": {},
   "outputs": [],
   "source": []
  }
 ]
}